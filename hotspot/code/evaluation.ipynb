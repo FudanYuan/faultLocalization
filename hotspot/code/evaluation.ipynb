{
 "cells": [
  {
   "cell_type": "code",
   "execution_count": 1,
   "metadata": {
    "collapsed": true
   },
   "outputs": [],
   "source": [
    "import pandas as pd\n",
    "import numpy as np\n",
    "import math"
   ]
  },
  {
   "cell_type": "markdown",
   "metadata": {},
   "source": [
    "#### 加载真实根因"
   ]
  },
  {
   "cell_type": "code",
   "execution_count": 2,
   "metadata": {
    "scrolled": false
   },
   "outputs": [
    {
     "data": {
      "text/html": [
       "<div>\n",
       "<style scoped>\n",
       "    .dataframe tbody tr th:only-of-type {\n",
       "        vertical-align: middle;\n",
       "    }\n",
       "\n",
       "    .dataframe tbody tr th {\n",
       "        vertical-align: top;\n",
       "    }\n",
       "\n",
       "    .dataframe thead th {\n",
       "        text-align: right;\n",
       "    }\n",
       "</style>\n",
       "<table border=\"1\" class=\"dataframe\">\n",
       "  <thead>\n",
       "    <tr style=\"text-align: right;\">\n",
       "      <th></th>\n",
       "      <th>timestamp</th>\n",
       "      <th>real_set</th>\n",
       "    </tr>\n",
       "  </thead>\n",
       "  <tbody>\n",
       "    <tr>\n",
       "      <th>0</th>\n",
       "      <td>1536398100000</td>\n",
       "      <td>[[c6, l3, e04, p26], [c3, p24, i61, l1]]</td>\n",
       "    </tr>\n",
       "    <tr>\n",
       "      <th>1</th>\n",
       "      <td>1536413700000</td>\n",
       "      <td>[[e04, l3, c2, p05, i27], [e12, p25, l3, i128,...</td>\n",
       "    </tr>\n",
       "    <tr>\n",
       "      <th>2</th>\n",
       "      <td>1536423000000</td>\n",
       "      <td>[[c6, l3, e04, p26]]</td>\n",
       "    </tr>\n",
       "    <tr>\n",
       "      <th>3</th>\n",
       "      <td>1536435000000</td>\n",
       "      <td>[[i119, p18], [c6, l4], [i101, c7], [l3, e11],...</td>\n",
       "    </tr>\n",
       "    <tr>\n",
       "      <th>4</th>\n",
       "      <td>1536441900000</td>\n",
       "      <td>[[e04, l3, c2, p05, i27]]</td>\n",
       "    </tr>\n",
       "  </tbody>\n",
       "</table>\n",
       "</div>"
      ],
      "text/plain": [
       "       timestamp                                           real_set\n",
       "0  1536398100000           [[c6, l3, e04, p26], [c3, p24, i61, l1]]\n",
       "1  1536413700000  [[e04, l3, c2, p05, i27], [e12, p25, l3, i128,...\n",
       "2  1536423000000                               [[c6, l3, e04, p26]]\n",
       "3  1536435000000  [[i119, p18], [c6, l4], [i101, c7], [l3, e11],...\n",
       "4  1536441900000                          [[e04, l3, c2, p05, i27]]"
      ]
     },
     "execution_count": 2,
     "metadata": {},
     "output_type": "execute_result"
    }
   ],
   "source": [
    "outlier_timestamp = pd.read_csv('../Anomalytime_data_valid.csv')\n",
    "outlier_timestamp = outlier_timestamp.sort_values(by='timestamp').reset_index(drop=True)\n",
    "root_cause_set = {}\n",
    "timestamps = []\n",
    "sets = []\n",
    "for ts in outlier_timestamp['timestamp']:\n",
    "    rcset = pd.read_csv('../anomaly_injection/timestamp_root_cause/%d.csv' % ts, header=None)\n",
    "    timestamps.append(ts)\n",
    "    s = []\n",
    "    for i in range(len(rcset)):\n",
    "        s.append(rcset.loc[i].tolist())\n",
    "    sets.append(s)\n",
    "\n",
    "root_cause_set['timestamp'] = timestamps\n",
    "root_cause_set['real_set'] = sets\n",
    "root_cause_set = pd.DataFrame(root_cause_set)\n",
    "root_cause_set.head()"
   ]
  },
  {
   "cell_type": "markdown",
   "metadata": {},
   "source": [
    "#### 加载计算的根因"
   ]
  },
  {
   "cell_type": "code",
   "execution_count": 3,
   "metadata": {
    "collapsed": true
   },
   "outputs": [],
   "source": [
    "def transformRootCauseSet(string):\n",
    "    root_cause_set = []\n",
    "    sets = string.split(';')\n",
    "    for s in sets:\n",
    "        elements = s.split('&')\n",
    "        root_cause_set.append(elements)\n",
    "    return root_cause_set\n",
    "\n",
    "result = pd.read_csv('../result/submit_valid.csv')\n",
    "result = result.sort_values(by='timestamp').reset_index(drop=True)\n",
    "result['set'] = result['set'].apply(transformRootCauseSet)\n",
    "result = result.merge(root_cause_set, on='timestamp', how='left')\n",
    "result.to_csv('../result/root_cause_set_valid.csv', index=False)"
   ]
  },
  {
   "cell_type": "markdown",
   "metadata": {},
   "source": [
    "#### 计算F-score"
   ]
  },
  {
   "cell_type": "raw",
   "metadata": {},
   "source": [
    "# 评估准确性的指标是F-score,该指标是准确率（Precision）和召回率(Recall)综合体现。具体计算如下所示：\n",
    "F-score =(2 ∗ Precision ∗ Recall)/(Precision+ Recall)，其中：\n",
    "Precision ＝ TP / (TP + FP)，\n",
    "Recall = TP / (TP + FN)。\n",
    "\n",
    "每个异常时刻都有一个真正的根因集合，记为S*，该集合中包含一个或多个属性值组合，参赛队伍的算法输出结果 记为S。\n",
    "对于S*中的每一个元素，S中包含其中一个，则算一次true positive （TP），遗漏一个算一次false negative （FN），\n",
    "多出一个S*中不存在的，记一次false positive （FP）。计算出所有异常时刻总的TP、FP、FN，最后得出F-score。"
   ]
  },
  {
   "cell_type": "code",
   "execution_count": 4,
   "metadata": {},
   "outputs": [
    {
     "name": "stdout",
     "output_type": "stream",
     "text": [
      "1 25 25\n",
      "F-score = 0.038462\n"
     ]
    }
   ],
   "source": [
    "TP = 0\n",
    "FN = 0\n",
    "FP = 0\n",
    "for ts in result['timestamp'].tolist():\n",
    "    root_cause = result[result['timestamp']==ts]['real_set']\n",
    "    root_cause_cal = result[result['timestamp']==ts]['set']\n",
    "    tmp = 0\n",
    "    for s1 in root_cause:\n",
    "        for s2 in root_cause_cal:\n",
    "            if len(s1) == len(s2) and len(set(s1).intersection(set(s2))) == len(s1):\n",
    "                tmp += 1\n",
    "                break\n",
    "    TP += tmp\n",
    "    FN += len(root_cause) - tmp\n",
    "    FP += len(root_cause_cal) - tmp\n",
    "if TP == 0:\n",
    "    TP += 1\n",
    "print(TP, FP, FN)\n",
    "Precision = TP / (TP + FP)\n",
    "Recall = TP / (TP + FN)\n",
    "FScore = (2 * Precision * Recall)/(Precision + Recall)\n",
    "print('F-score = %f' % FScore)"
   ]
  },
  {
   "cell_type": "code",
   "execution_count": null,
   "metadata": {
    "collapsed": true
   },
   "outputs": [],
   "source": []
  }
 ],
 "metadata": {
  "kernelspec": {
   "display_name": "Python 3",
   "language": "python",
   "name": "python3"
  },
  "language_info": {
   "codemirror_mode": {
    "name": "ipython",
    "version": 3
   },
   "file_extension": ".py",
   "mimetype": "text/x-python",
   "name": "python",
   "nbconvert_exporter": "python",
   "pygments_lexer": "ipython3",
   "version": "3.6.2"
  }
 },
 "nbformat": 4,
 "nbformat_minor": 2
}
