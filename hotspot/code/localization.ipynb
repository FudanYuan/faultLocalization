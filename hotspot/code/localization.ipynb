{
 "cells": [
  {
   "cell_type": "code",
   "execution_count": null,
   "metadata": {
    "collapsed": true
   },
   "outputs": [],
   "source": [
    "# coding: utf-8\n",
    "import pandas as pd\n",
    "import numpy as np\n",
    "import time\n",
    "import math\n",
    "from tqdm import tqdm\n",
    "import matplotlib.pyplot as plt\n",
    "\n",
    "from package.utils import KPIPoint\n",
    "from package.utils import KPISet\n",
    "from package.HotSpot import HotSpot\n",
    "\n",
    "#### 加载数据集\n",
    "kSet_pred = KPISet({}, {})\n",
    "kSet_pred.load('../result/metadata/KPISetTestPredict')\n",
    "# kSet.test()\n",
    "#### 读取异常时间戳\n",
    "outlier = pd.read_csv('../Anomalytime_data_test1.csv')\n",
    "outlier = outlier['timestamp'].tolist()\n",
    "ps_threshold = 0.98\n",
    "ep_threshold = 0.01\n",
    "max_iter = 10\n",
    "\n",
    "res = {}\n",
    "res['timestamp'] = []\n",
    "res['set'] = []\n",
    "sTime = time.time()\n",
    "for timestamp in tqdm(outlier):\n",
    "    ts = timestamp / 1000\n",
    "    kPoint = kSet_pred._KPIPoints[ts]\n",
    "    layer_max = len(kPoint._attribute_names)\n",
    "    hotSpot = HotSpot(kPoint, layer_max, ps_threshold, ep_threshold, max_iter)\n",
    "    # sTime = time.time()\n",
    "    # res = hotSpot._KPIPoint.get_elements_set_by_layer_with_prune(3, [('i01',)])\n",
    "    # eTime = time.time()\n",
    "    # print('runtime %fs' % (eTime - sTime))\n",
    "\n",
    "    rootCauseSet = hotSpot.find_root_cause_set_revised()\n",
    "    res['timestamp'].append(timestamp)\n",
    "    sets = []\n",
    "    for ele in rootCauseSet[0][0]:\n",
    "        sets.append(\"&\".join(ele))\n",
    "    res['set'].append(';'.join(sets))\n",
    "eTime = time.time()\n",
    "print('runtime %fs' % (eTime - sTime))\n",
    "res = pd.DataFrame(res)\n",
    "res.to_csv('../result/submit.csv', index=False)"
   ]
  }
 ],
 "metadata": {
  "kernelspec": {
   "display_name": "Python 3",
   "language": "python",
   "name": "python3"
  },
  "language_info": {
   "codemirror_mode": {
    "name": "ipython",
    "version": 3
   },
   "file_extension": ".py",
   "mimetype": "text/x-python",
   "name": "python",
   "nbconvert_exporter": "python",
   "pygments_lexer": "ipython3",
   "version": "3.6.2"
  }
 },
 "nbformat": 4,
 "nbformat_minor": 2
}
