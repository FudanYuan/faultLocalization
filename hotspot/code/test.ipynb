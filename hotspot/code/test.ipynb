{
 "cells": [
  {
   "cell_type": "code",
   "execution_count": null,
   "metadata": {
    "collapsed": true
   },
   "outputs": [],
   "source": [
    "# coding: utf-8\n",
    "import pandas as pd\n",
    "import numpy as np\n",
    "import time\n",
    "import math\n",
    "from tqdm import tqdm\n",
    "import matplotlib.pyplot as plt\n",
    "\n",
    "from package.utils import KPIPoint\n",
    "from package.utils import KPISet\n",
    "from package.utils import Transformer\n",
    "from package.HotSpot import HotSpot"
   ]
  },
  {
   "cell_type": "markdown",
   "metadata": {},
   "source": [
    "#### 加载前2周数据"
   ]
  },
  {
   "cell_type": "code",
   "execution_count": null,
   "metadata": {
    "collapsed": true
   },
   "outputs": [],
   "source": [
    "timestamp_strat = 1535731200\n",
    "timestamp_end = 1536940500 #1535731200 + 5 * 60#\n",
    "timestamp_interval = 5 * 60\n",
    "file_path = '../2019AIOps_data/'\n",
    "kSet = Transformer().transformKPIData2KPISet(file_path, timestamp_strat, timestamp_end, timestamp_interval)\n",
    "kSet.save('../result/metadata/KPISet')"
   ]
  },
  {
   "cell_type": "markdown",
   "metadata": {},
   "source": [
    "#### 加载后2周数据（注入了异常）"
   ]
  },
  {
   "cell_type": "code",
   "execution_count": null,
   "metadata": {
    "collapsed": true
   },
   "outputs": [],
   "source": [
    "timestamp_strat = 1536940800\n",
    "timestamp_end = 1538150100 #1536940800 + 5 * 60#\n",
    "timestamp_interval = 5 * 60\n",
    "file_path = '../2019AIOps_data_test1/'\n",
    "kSet_test = Transformer().transformKPIData2KPISet(file_path, timestamp_strat, timestamp_end, timestamp_interval)\n",
    "kSet_test.save('../result/metadata/KPISetTest')"
   ]
  },
  {
   "cell_type": "markdown",
   "metadata": {},
   "source": [
    "#### 使用前2周数据预测后2周数据，此处可以优化"
   ]
  },
  {
   "cell_type": "code",
   "execution_count": null,
   "metadata": {
    "collapsed": true
   },
   "outputs": [],
   "source": [
    "# 使用前两周数据预测本周数据\n",
    "I = 300\n",
    "T = I * 288\n",
    "train_timestamp_start = 1535731200\n",
    "train_timestamp_end = 1536940500\n",
    "for timestamp in tqdm(kSet_test._KPIPoints):\n",
    "    tw = math.floor((timestamp - 16 * 3600) % (3600 * 24) / I)\n",
    "    # print(time.strftime('%Y-%m-%d %H:%M:%S',time.localtime(timestamp)), tw)\n",
    "    for leaf in kSet_test._KPIPoints[timestamp]._leaf:\n",
    "        ts_true = kSet.get_ts_leaf(leaf=leaf, t1=train_timestamp_start + tw * I, t2=train_timestamp_end, delta=T)[\n",
    "            'true']\n",
    "        predict = np.mean(ts_true)\n",
    "        kSet_test._KPIPoints[timestamp]._leaf[leaf][1] = predict\n",
    "\n",
    "#### 保存数据\n",
    "kSet_test.save('../result/metadata/KPISetTestPredict')"
   ]
  },
  {
   "cell_type": "markdown",
   "metadata": {},
   "source": [
    "#### 异常定位"
   ]
  },
  {
   "cell_type": "code",
   "execution_count": null,
   "metadata": {
    "collapsed": true
   },
   "outputs": [],
   "source": [
    "# 加载数据集\n",
    "# kSet_test = KPISet({}, {})\n",
    "# kSet_test.load('../result/metadata/KPISetTestPredict')\n",
    "\n",
    "# 读取异常时间戳\n",
    "outlier = pd.read_csv('../Anomalytime_data_test1.csv')\n",
    "outlier = outlier['timestamp'].tolist()\n",
    "\n",
    "# HotSpot参数\n",
    "ps_threshold = 0.98  # 潜在得分阈值\n",
    "ep_threshold = 0.01  # 解释力阈值\n",
    "max_iter = 10  # MCTS最大迭代次数\n",
    "\n",
    "res = {}\n",
    "res['timestamp'] = []\n",
    "res['set'] = []\n",
    "sTime = time.time()\n",
    "for timestamp in tqdm(outlier):\n",
    "    ts = timestamp / 1000\n",
    "    kPoint = kSet_pred._KPIPoints[ts]\n",
    "    layer_max = len(kPoint._attribute_names)\n",
    "    hotSpot = HotSpot(kPoint, layer_max, ps_threshold, ep_threshold, max_iter)\n",
    "    rootCauseSet = hotSpot.find_root_cause_set_revised()\n",
    "    res['timestamp'].append(timestamp)\n",
    "    sets = []\n",
    "    for ele in rootCauseSet[0][0]:\n",
    "        sets.append(\"&\".join(ele))\n",
    "    res['set'].append(';'.join(sets))\n",
    "eTime = time.time()\n",
    "print('runtime %fs' % (eTime - sTime))\n",
    "res = pd.DataFrame(res)\n",
    "resPath = '../result/submit_pst%f_ept%f_iter%d.csv' % (ps_threshold, ep_threshold, max_iter)\n",
    "res.to_csv(resPath, index=False)"
   ]
  }
 ],
 "metadata": {
  "kernelspec": {
   "display_name": "Python 3",
   "language": "python",
   "name": "python3"
  },
  "language_info": {
   "codemirror_mode": {
    "name": "ipython",
    "version": 3
   },
   "file_extension": ".py",
   "mimetype": "text/x-python",
   "name": "python",
   "nbconvert_exporter": "python",
   "pygments_lexer": "ipython3",
   "version": "3.6.2"
  }
 },
 "nbformat": 4,
 "nbformat_minor": 2
}
