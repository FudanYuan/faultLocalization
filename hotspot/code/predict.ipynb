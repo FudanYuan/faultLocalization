{
 "cells": [
  {
   "cell_type": "code",
   "execution_count": 1,
   "metadata": {
    "collapsed": true
   },
   "outputs": [],
   "source": [
    "# coding: utf-8\n",
    "import pandas as pd\n",
    "import numpy as np\n",
    "import time\n",
    "import math\n",
    "from tqdm import tqdm\n",
    "import matplotlib.pyplot as plt\n",
    "\n",
    "from package.utils import KPIPoint\n",
    "from package.utils import KPISet\n",
    "from package.utils import Transformer\n",
    "from package.HotSpot import HotSpot"
   ]
  },
  {
   "cell_type": "markdown",
   "metadata": {},
   "source": [
    "#### 加载第1周数据"
   ]
  },
  {
   "cell_type": "code",
   "execution_count": 2,
   "metadata": {
    "collapsed": true
   },
   "outputs": [],
   "source": [
    "# timestamp_strat = 1535731200\n",
    "# timestamp_end = 1536335700 #1535731200 + 5 * 60#\n",
    "# timestamp_interval = 5 * 60\n",
    "# file_path = '../2019AIOps_data/'\n",
    "# kSet_train = Transformer().transformKPIData2KPISet(file_path, timestamp_strat, timestamp_end, timestamp_interval)\n",
    "#kSet_train.save('../result/metadata/KPISetTrain')\n",
    "kSet_train = KPISet({}, {})\n",
    "kSet_train.load('../result/metadata/KPISetTrain') "
   ]
  },
  {
   "cell_type": "markdown",
   "metadata": {},
   "source": [
    "#### 加载第2周数据"
   ]
  },
  {
   "cell_type": "code",
   "execution_count": 3,
   "metadata": {},
   "outputs": [
    {
     "name": "stderr",
     "output_type": "stream",
     "text": [
      "100%|██████████| 2016/2016 [41:39<00:00,  1.09s/it]\n"
     ]
    }
   ],
   "source": [
    "# timestamp_strat = 1536336000\n",
    "# timestamp_end = 1536940500 #1536336000 + 5 * 60# \n",
    "# timestamp_interval = 5 * 60\n",
    "# file_path = '../2019AIOps_data/'\n",
    "# kSet_valid = Transformer().transformKPIData2KPISet(file_path, timestamp_strat, timestamp_end, timestamp_interval)\n",
    "# kSet_valid.save('../result/metadata/KPISetTrainValid')\n",
    "kSet_valid = KPISet({}, {})\n",
    "kSet_valid.load('../result/metadata/KPISetTrainValid') "
   ]
  },
  {
   "cell_type": "markdown",
   "metadata": {},
   "source": [
    "#### 使用第一周数据预测第二周数据，此处采用前一周7天同时间窗的KPI的均值作为预测值"
   ]
  },
  {
   "cell_type": "code",
   "execution_count": 14,
   "metadata": {},
   "outputs": [
    {
     "name": "stderr",
     "output_type": "stream",
     "text": [
      "100%|██████████| 2016/2016 [02:26<00:00, 15.06it/s]\n"
     ]
    }
   ],
   "source": [
    "# 使用第一周数据预测第二周数据\n",
    "I = 300\n",
    "T = I * 288 * 7\n",
    "train_timestamp_start = 1535731200\n",
    "train_timestamp_end = 1536335700\n",
    "for timestamp in tqdm(kSet_valid._KPIPoints):\n",
    "    tw = math.floor((timestamp - 16 * 3600) % (3600 * 24) / I)\n",
    "    # print(time.strftime('%Y-%m-%d %H:%M:%S',time.localtime(timestamp)), tw)\n",
    "    for leaf in kSet_valid._KPIPoints[timestamp]._leaf:\n",
    "        ts_true = kSet_train.get_ts_leaf(leaf=leaf, \n",
    "                                         t1=train_timestamp_start + tw * I,\n",
    "                                         t2=train_timestamp_end, \n",
    "                                         delta=T)['true']\n",
    "        predict = np.mean(ts_true)\n",
    "        kSet_valid._KPIPoints[timestamp]._leaf[leaf][1] = predict\n",
    "\n",
    "# 保存数据\n",
    "kSet_valid.save('../result/metadata/KPISetValidPredict')"
   ]
  },
  {
   "cell_type": "markdown",
   "metadata": {},
   "source": [
    "#### 计算MAE"
   ]
  },
  {
   "cell_type": "code",
   "execution_count": 17,
   "metadata": {},
   "outputs": [
    {
     "name": "stdout",
     "output_type": "stream",
     "text": [
      "4904304\n",
      "MAE = 123.788527\n"
     ]
    }
   ],
   "source": [
    "mae = 0\n",
    "count = 0\n",
    "maeList = []\n",
    "real = []\n",
    "pred = []\n",
    "kSet_valid = KPISet({},{})\n",
    "kSet_valid.load('../result/metadata/KPISetValidPredict2')\n",
    "for ts in kSet_valid._KPIPoints:\n",
    "    for leaf in kSet_valid._KPIPoints[ts]._leaf:\n",
    "        value = kSet_valid._KPIPoints[ts]._leaf[leaf]\n",
    "        mae += abs(value[0] - value[1])\n",
    "        maeList.append(mae)\n",
    "        real.append(value[0])\n",
    "        pred.append(value[1])\n",
    "        count += 1\n",
    "print(len(maeList))\n",
    "print('MAE = %f' % (mae / count))"
   ]
  },
  {
   "cell_type": "code",
   "execution_count": 20,
   "metadata": {},
   "outputs": [
    {
     "name": "stdout",
     "output_type": "stream",
     "text": [
      "MAE 123.788527034\n"
     ]
    },
    {
     "data": {
      "image/png": "[encoded data removed]",
      "text/plain": [
       "<Figure size 432x288 with 1 Axes>"
      ]
     },
     "metadata": {},
     "output_type": "display_data"
    }
   ],
   "source": [
    "evaluate(real, pred, 'MAE')\n",
    "visualize(real, pred)"
   ]
  }
 ],
 "metadata": {
  "kernelspec": {
   "display_name": "Python 3",
   "language": "python",
   "name": "python3"
  },
  "language_info": {
   "codemirror_mode": {
    "name": "ipython",
    "version": 3
   },
   "file_extension": ".py",
   "mimetype": "text/x-python",
   "name": "python",
   "nbconvert_exporter": "python",
   "pygments_lexer": "ipython3",
   "version": "3.6.2"
  }
 },
 "nbformat": 4,
 "nbformat_minor": 2
}
