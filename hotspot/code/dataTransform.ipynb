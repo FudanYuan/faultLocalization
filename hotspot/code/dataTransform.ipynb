{
 "cells": [
  {
   "cell_type": "code",
   "execution_count": null,
   "metadata": {
    "collapsed": true
   },
   "outputs": [],
   "source": [
    "import numpy as np\n",
    "import pandas as pd\n",
    "from tqdm import tqdm\n",
    "from package.utils import KPIPoint\n",
    "from package.utils import KPISet\n",
    "\n",
    "def transformKPIData2KPIPoint(filePath, timestamp):\n",
    "    data = pd.read_csv(filePath + str(timestamp) + '.csv', header=None, names=['i', 'e', 'c', 'p', 'l', 'KPI'])\n",
    "    data = data.drop(data[data.values=='unknown'].index,axis=0).reset_index(drop=True)\n",
    "    data = data[data['KPI'] !=0].reset_index(drop=True)\n",
    "    # 获取属性值\n",
    "    attribute_list = {}\n",
    "    attrs = list(data.columns)[:-1]\n",
    "    for attr in attrs:\n",
    "        attribute_list[attr] = sorted(data[attr].unique().tolist())\n",
    "    # 获取叶子元素\n",
    "    # leaf = dict(zip(zip(data['i'], data['e'], data['c'], data['p'], data['l']), data['KPI'])) # 主键相同时会覆盖\n",
    "    leaf = {}\n",
    "    for i in range(len(data)):\n",
    "        element = tuple(data.loc[i][:-1])\n",
    "        # if element in leaf:\n",
    "        #    print('error')\n",
    "        #    print(i, element, leaf[element])\n",
    "        if element not in leaf:\n",
    "            leaf[element] = [0, 0]\n",
    "        leaf[element] = [leaf[element][0] + data.loc[i][-1], 0]\n",
    "    return attribute_list, leaf\n",
    "\n",
    "def transformKPIData2KPISet(filePath, timestamp_start, timestamp_end, timestamp_interval):\n",
    "    kPoints = {}\n",
    "    attr_list_all = {}\n",
    "    for ts in tqdm(range(timestamp_strat, timestamp_end + timestamp_interval, timestamp_interval)):\n",
    "        ts_file = ts * 1000\n",
    "        attribute_list, leaf = transformKPIData2KPIPoint(filePath, ts_file)\n",
    "        kPoints[ts] = KPIPoint(attribute_list, ts, leaf)\n",
    "        for attr in attribute_list:\n",
    "            if attr not in attr_list_all:\n",
    "                attr_list_all[attr] = []\n",
    "            attr_list_all[attr] = sorted(list(set(attr_list_all[attr]).union(set(attribute_list[attr]))))\n",
    "    kSet = KPISet(attr_list_all, kPoints)\n",
    "    return kSet"
   ]
  },
  {
   "cell_type": "markdown",
   "metadata": {},
   "source": [
    "#### 整理第一阶段数据"
   ]
  },
  {
   "cell_type": "code",
   "execution_count": null,
   "metadata": {
    "collapsed": true,
    "scrolled": true
   },
   "outputs": [],
   "source": [
    "timestamp_strat = 1535731200\n",
    "timestamp_end = 1536940500 #1535731200 + 5 * 60#\n",
    "timestamp_interval = 5 * 60\n",
    "file_path = '../2019AIOps_data/'\n",
    "kSet = transformKPIData2KPISet(file_path, timestamp_strat, timestamp_end, timestamp_interval)\n",
    "# kSet.test()\n",
    "for attr in kSet._attribute_list:\n",
    "    print(attr, len(kSet._attribute_list[attr]))\n",
    "kSet.save('../result/metadata/KPISet')"
   ]
  },
  {
   "cell_type": "markdown",
   "metadata": {},
   "source": [
    "#### 整理第二阶段数据"
   ]
  },
  {
   "cell_type": "code",
   "execution_count": null,
   "metadata": {
    "collapsed": true
   },
   "outputs": [],
   "source": [
    "timestamp_strat = 1536940800\n",
    "timestamp_end = 1538150100 #1536940800 + 5 * 60#\n",
    "timestamp_interval = 5 * 60\n",
    "file_path = '../2019AIOps_data_test1/'\n",
    "kSet_test = transformKPIData2KPISet(file_path, timestamp_strat, timestamp_end, timestamp_interval)\n",
    "# kSet_test.test()\n",
    "for attr in kSet_test._attribute_list:\n",
    "    print(attr, len(kSet_test._attribute_list[attr]))\n",
    "kSet_test.save('../result/metadata/KPISetTest')"
   ]
  },
  {
   "cell_type": "code",
   "execution_count": null,
   "metadata": {
    "collapsed": true
   },
   "outputs": [],
   "source": []
  }
 ],
 "metadata": {
  "kernelspec": {
   "display_name": "Python 3",
   "language": "python",
   "name": "python3"
  },
  "language_info": {
   "codemirror_mode": {
    "name": "ipython",
    "version": 3
   },
   "file_extension": ".py",
   "mimetype": "text/x-python",
   "name": "python",
   "nbconvert_exporter": "python",
   "pygments_lexer": "ipython3",
   "version": "3.6.2"
  }
 },
 "nbformat": 4,
 "nbformat_minor": 2
}
