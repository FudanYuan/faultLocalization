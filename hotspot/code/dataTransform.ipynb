{
 "cells": [
  {
   "cell_type": "code",
   "execution_count": null,
   "metadata": {
    "collapsed": true
   },
   "outputs": [],
   "source": [
    "import numpy as np\n",
    "import pandas as pd\n",
    "from tqdm import tqdm\n",
    "from package.utils import KPIPoint\n",
    "from package.utils import KPISet\n",
    "from package.utils import Transformer"
   ]
  },
  {
   "cell_type": "markdown",
   "metadata": {
    "collapsed": true
   },
   "source": [
    "### 验证数据"
   ]
  },
  {
   "cell_type": "markdown",
   "metadata": {},
   "source": [
    "#### 第一周数据"
   ]
  },
  {
   "cell_type": "code",
   "execution_count": null,
   "metadata": {
    "scrolled": true
   },
   "outputs": [],
   "source": [
    "timestamp_strat = 1535731200\n",
    "timestamp_end = 1536335700 #1535731200 + 5 * 60#\n",
    "timestamp_interval = 5 * 60\n",
    "file_path = '../2019AIOps_data/'\n",
    "kSet = Transformer().transformKPIData2KPISet(file_path, timestamp_strat, timestamp_end, timestamp_interval)\n",
    "# kSet.test()\n",
    "for attr in kSet._attribute_list:\n",
    "    print(attr, len(kSet._attribute_list[attr]))\n",
    "kSet.save('../result/metadata/KPISetTrain')"
   ]
  },
  {
   "cell_type": "markdown",
   "metadata": {},
   "source": [
    "#### 第二周数据"
   ]
  },
  {
   "cell_type": "code",
   "execution_count": null,
   "metadata": {},
   "outputs": [],
   "source": [
    "timestamp_strat = 1536336000\n",
    "timestamp_end = 1536940500 #1535731200 + 5 * 60#\n",
    "timestamp_interval = 5 * 60\n",
    "file_path = '../2019AIOps_data_valid/'\n",
    "kSet = Transformer().transformKPIData2KPISet(file_path, timestamp_strat, timestamp_end, timestamp_interval)\n",
    "# kSet.test()\n",
    "for attr in kSet._attribute_list:\n",
    "    print(attr, len(kSet._attribute_list[attr]))\n",
    "kSet.save('../result/metadata/KPISetValid')"
   ]
  },
  {
   "cell_type": "markdown",
   "metadata": {},
   "source": [
    "### 测试数据1"
   ]
  },
  {
   "cell_type": "markdown",
   "metadata": {},
   "source": [
    "#### 整理第一阶段数据"
   ]
  },
  {
   "cell_type": "code",
   "execution_count": null,
   "metadata": {
    "collapsed": true,
    "scrolled": true
   },
   "outputs": [],
   "source": [
    "timestamp_strat = 1535731200\n",
    "timestamp_end = 1536940500 #1535731200 + 5 * 60#\n",
    "timestamp_interval = 5 * 60\n",
    "file_path = '../2019AIOps_data/'\n",
    "kSet = Transformer().transformKPIData2KPISet(file_path, timestamp_strat, timestamp_end, timestamp_interval)\n",
    "# kSet.test()\n",
    "for attr in kSet._attribute_list:\n",
    "    print(attr, len(kSet._attribute_list[attr]))\n",
    "kSet.save('../result/metadata/KPISet')"
   ]
  },
  {
   "cell_type": "markdown",
   "metadata": {},
   "source": [
    "#### 整理第二阶段数据"
   ]
  },
  {
   "cell_type": "code",
   "execution_count": null,
   "metadata": {
    "collapsed": true
   },
   "outputs": [],
   "source": [
    "timestamp_strat = 1536940800\n",
    "timestamp_end = 1538150100 #1536940800 + 5 * 60#\n",
    "timestamp_interval = 5 * 60\n",
    "file_path = '../2019AIOps_data_test1/'\n",
    "kSet_test = Transformer().transformKPIData2KPISet(file_path, timestamp_strat, timestamp_end, timestamp_interval)\n",
    "# kSet_test.test()\n",
    "for attr in kSet_test._attribute_list:\n",
    "    print(attr, len(kSet_test._attribute_list[attr]))\n",
    "kSet_test.save('../result/metadata/KPISetTest')"
   ]
  }
 ],
 "metadata": {
  "kernelspec": {
   "display_name": "Python 3",
   "language": "python",
   "name": "python3"
  },
  "language_info": {
   "codemirror_mode": {
    "name": "ipython",
    "version": 3
   },
   "file_extension": ".py",
   "mimetype": "text/x-python",
   "name": "python",
   "nbconvert_exporter": "python",
   "pygments_lexer": "ipython3",
   "version": "3.6.2"
  }
 },
 "nbformat": 4,
 "nbformat_minor": 2
}
