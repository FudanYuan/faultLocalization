{
 "cells": [
  {
   "cell_type": "code",
   "execution_count": 1,
   "metadata": {
    "collapsed": true
   },
   "outputs": [],
   "source": [
    "# coding: utf-8\n",
    "import pandas as pd\n",
    "import numpy as np\n",
    "import time\n",
    "import math\n",
    "from tqdm import tqdm\n",
    "import matplotlib.pyplot as plt\n",
    "\n",
    "from package.utils import KPIPoint\n",
    "from package.utils import KPISet\n",
    "from package.HotSpot import HotSpot"
   ]
  },
  {
   "cell_type": "code",
   "execution_count": 2,
   "metadata": {},
   "outputs": [
    {
     "data": {
      "text/html": [
       "<div>\n",
       "<style scoped>\n",
       "    .dataframe tbody tr th:only-of-type {\n",
       "        vertical-align: middle;\n",
       "    }\n",
       "\n",
       "    .dataframe tbody tr th {\n",
       "        vertical-align: top;\n",
       "    }\n",
       "\n",
       "    .dataframe thead th {\n",
       "        text-align: right;\n",
       "    }\n",
       "</style>\n",
       "<table border=\"1\" class=\"dataframe\">\n",
       "  <thead>\n",
       "    <tr style=\"text-align: right;\">\n",
       "      <th></th>\n",
       "      <th>timestamp</th>\n",
       "      <th>set</th>\n",
       "      <th>real_set</th>\n",
       "    </tr>\n",
       "  </thead>\n",
       "  <tbody>\n",
       "    <tr>\n",
       "      <th>0</th>\n",
       "      <td>1536398100000</td>\n",
       "      <td>[['e10', 'p10'], ['e10', 'p15'], ['e10', 'p19'...</td>\n",
       "      <td>[['c6', 'l3', 'e04', 'p26'], ['c3', 'p24', 'i6...</td>\n",
       "    </tr>\n",
       "    <tr>\n",
       "      <th>1</th>\n",
       "      <td>1536413700000</td>\n",
       "      <td>[['i28'], ['i46'], ['i14'], ['i47']]</td>\n",
       "      <td>[['e04', 'l3', 'c2', 'p05', 'i27'], ['e12', 'p...</td>\n",
       "    </tr>\n",
       "    <tr>\n",
       "      <th>2</th>\n",
       "      <td>1536423000000</td>\n",
       "      <td>[['e10', 'p10'], ['e10', 'p19'], ['e10', 'p01'...</td>\n",
       "      <td>[['c6', 'l3', 'e04', 'p26']]</td>\n",
       "    </tr>\n",
       "    <tr>\n",
       "      <th>3</th>\n",
       "      <td>1536435000000</td>\n",
       "      <td>[['e10', 'p19'], ['e10', 'p10'], ['e10', 'p21'...</td>\n",
       "      <td>[['i119', 'p18'], ['c6', 'l4'], ['i101', 'c7']...</td>\n",
       "    </tr>\n",
       "    <tr>\n",
       "      <th>4</th>\n",
       "      <td>1536441900000</td>\n",
       "      <td>[['e10', 'c5', 'p19'], ['e10', 'c1', 'p10'], [...</td>\n",
       "      <td>[['e04', 'l3', 'c2', 'p05', 'i27']]</td>\n",
       "    </tr>\n",
       "  </tbody>\n",
       "</table>\n",
       "</div>"
      ],
      "text/plain": [
       "       timestamp                                                set  \\\n",
       "0  1536398100000  [['e10', 'p10'], ['e10', 'p15'], ['e10', 'p19'...   \n",
       "1  1536413700000               [['i28'], ['i46'], ['i14'], ['i47']]   \n",
       "2  1536423000000  [['e10', 'p10'], ['e10', 'p19'], ['e10', 'p01'...   \n",
       "3  1536435000000  [['e10', 'p19'], ['e10', 'p10'], ['e10', 'p21'...   \n",
       "4  1536441900000  [['e10', 'c5', 'p19'], ['e10', 'c1', 'p10'], [...   \n",
       "\n",
       "                                            real_set  \n",
       "0  [['c6', 'l3', 'e04', 'p26'], ['c3', 'p24', 'i6...  \n",
       "1  [['e04', 'l3', 'c2', 'p05', 'i27'], ['e12', 'p...  \n",
       "2                       [['c6', 'l3', 'e04', 'p26']]  \n",
       "3  [['i119', 'p18'], ['c6', 'l4'], ['i101', 'c7']...  \n",
       "4                [['e04', 'l3', 'c2', 'p05', 'i27']]  "
      ]
     },
     "execution_count": 2,
     "metadata": {},
     "output_type": "execute_result"
    }
   ],
   "source": [
    "root_cause_set = pd.read_csv('../result/root_cause_set_valid.csv')\n",
    "root_cause_set.head()"
   ]
  },
  {
   "cell_type": "code",
   "execution_count": 3,
   "metadata": {
    "collapsed": true
   },
   "outputs": [],
   "source": [
    "# 加载第二周数据\n",
    "kSet_valid = KPISet({}, {})\n",
    "kSet_valid.load('../result/metadata/KPISetValidPredict')"
   ]
  },
  {
   "cell_type": "code",
   "execution_count": 23,
   "metadata": {},
   "outputs": [
    {
     "data": {
      "text/plain": [
       "{'pred': [187754.99999999997, 184640.0], 'true': [229424, 229934]}"
      ]
     },
     "execution_count": 23,
     "metadata": {},
     "output_type": "execute_result"
    }
   ],
   "source": [
    "kSet_valid.get_ts_ele(ele=('e10', 'p10'), t1=1536398100, t2=1536398100+300, delta=300)"
   ]
  },
  {
   "cell_type": "code",
   "execution_count": 26,
   "metadata": {},
   "outputs": [
    {
     "data": {
      "text/plain": [
       "({('i03', 'e10', 'c5', 'p10', 'l3'): [2, 5.2857142857142856],\n",
       "  ('i06', 'e10', 'c3', 'p10', 'l1'): [6, 0.14285714285714285],\n",
       "  ('i06', 'e10', 'c3', 'p10', 'l3'): [761, 290.71428571428572],\n",
       "  ('i06', 'e10', 'c3', 'p10', 'l4'): [32, 29.714285714285715],\n",
       "  ('i06', 'e10', 'c5', 'p10', 'l1'): [162, 176.71428571428572],\n",
       "  ('i06', 'e10', 'c5', 'p10', 'l2'): [174, 186.42857142857142],\n",
       "  ('i06', 'e10', 'c5', 'p10', 'l3'): [126451, 104987.85714285714],\n",
       "  ('i06', 'e10', 'c5', 'p10', 'l4'): [9893, 7842.2857142857147],\n",
       "  ('i19', 'e10', 'c5', 'p10', 'l2'): [3, 6.8571428571428568],\n",
       "  ('i19', 'e10', 'c5', 'p10', 'l3'): [249, 199.57142857142858],\n",
       "  ('i19', 'e10', 'c5', 'p10', 'l4'): [22, 29.285714285714285],\n",
       "  ('i25', 'e10', 'c5', 'p10', 'l4'): [10, 4.1428571428571432],\n",
       "  ('i27', 'e10', 'c5', 'p10', 'l3'): [2, 0.8571428571428571],\n",
       "  ('i33', 'e10', 'c1', 'p10', 'l3'): [1, 0.5714285714285714],\n",
       "  ('i38', 'e10', 'c1', 'p10', 'l1'): [114, 104.28571428571429],\n",
       "  ('i38', 'e10', 'c1', 'p10', 'l2'): [2382, 2300.2857142857142],\n",
       "  ('i38', 'e10', 'c1', 'p10', 'l3'): [74370, 60575.0],\n",
       "  ('i38', 'e10', 'c1', 'p10', 'l4'): [12618, 9914.0],\n",
       "  ('i38', 'e10', 'c4', 'p10', 'l1'): [7, 2.4285714285714284],\n",
       "  ('i38', 'e10', 'c4', 'p10', 'l2'): [33, 33.857142857142854],\n",
       "  ('i38', 'e10', 'c4', 'p10', 'l3'): [1464, 707.85714285714289],\n",
       "  ('i38', 'e10', 'c4', 'p10', 'l4'): [327, 136.14285714285714],\n",
       "  ('i38', 'e10', 'c7', 'p10', 'l2'): [8, 15.0],\n",
       "  ('i38', 'e10', 'c7', 'p10', 'l3'): [68, 29.285714285714285],\n",
       "  ('i38', 'e10', 'c7', 'p10', 'l4'): [73, 34.0],\n",
       "  ('i63', 'e10', 'c1', 'p10', 'l2'): [42, 16.285714285714285],\n",
       "  ('i63', 'e10', 'c1', 'p10', 'l3'): [70, 55.428571428571431],\n",
       "  ('i63', 'e10', 'c1', 'p10', 'l4'): [80, 70.714285714285708]},\n",
       " [229424, 187754.99999999997])"
      ]
     },
     "execution_count": 26,
     "metadata": {},
     "output_type": "execute_result"
    }
   ],
   "source": [
    "kSet_valid.get_descendant_elements_ele(1536398100, ('e10', 'p10'))"
   ]
  },
  {
   "cell_type": "code",
   "execution_count": 21,
   "metadata": {},
   "outputs": [
    {
     "data": {
      "text/html": [
       "<div>\n",
       "<style scoped>\n",
       "    .dataframe tbody tr th:only-of-type {\n",
       "        vertical-align: middle;\n",
       "    }\n",
       "\n",
       "    .dataframe tbody tr th {\n",
       "        vertical-align: top;\n",
       "    }\n",
       "\n",
       "    .dataframe thead th {\n",
       "        text-align: right;\n",
       "    }\n",
       "</style>\n",
       "<table border=\"1\" class=\"dataframe\">\n",
       "  <thead>\n",
       "    <tr style=\"text-align: right;\">\n",
       "      <th></th>\n",
       "      <th>i</th>\n",
       "      <th>e</th>\n",
       "      <th>c</th>\n",
       "      <th>p</th>\n",
       "      <th>l</th>\n",
       "      <th>KPI</th>\n",
       "    </tr>\n",
       "  </thead>\n",
       "  <tbody>\n",
       "  </tbody>\n",
       "</table>\n",
       "</div>"
      ],
      "text/plain": [
       "Empty DataFrame\n",
       "Columns: [i, e, c, p, l, KPI]\n",
       "Index: []"
      ]
     },
     "execution_count": 21,
     "metadata": {},
     "output_type": "execute_result"
    }
   ],
   "source": [
    "KPI = pd.read_csv('../anomaly_injection/anomaly/1536398100000.csv', header=None, names=['i', 'e', 'c', 'p', 'l', 'KPI'])\n",
    "KPI[((KPI['e'] == 'e04') & (KPI['c'] == 'c6') & (KPI['p'] == 'p26') & (KPI['l'] == 'l3'))]"
   ]
  }
 ],
 "metadata": {
  "kernelspec": {
   "display_name": "Python 3",
   "language": "python",
   "name": "python3"
  },
  "language_info": {
   "codemirror_mode": {
    "name": "ipython",
    "version": 3
   },
   "file_extension": ".py",
   "mimetype": "text/x-python",
   "name": "python",
   "nbconvert_exporter": "python",
   "pygments_lexer": "ipython3",
   "version": "3.6.2"
  }
 },
 "nbformat": 4,
 "nbformat_minor": 2
}
