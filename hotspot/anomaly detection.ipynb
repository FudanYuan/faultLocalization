{
 "cells": [
  {
   "cell_type": "code",
   "execution_count": 1,
   "metadata": {
    "collapsed": true
   },
   "outputs": [],
   "source": [
    "import numpy as np\n",
    "import pandas as pd\n",
    "import random\n",
    "from os import listdir"
   ]
  },
  {
   "cell_type": "code",
   "execution_count": 2,
   "metadata": {
    "collapsed": true
   },
   "outputs": [],
   "source": [
    "# 取出5种属性的所有属性值\n",
    "def find_total_attrs(path):\n",
    "\tattrs = listdir(path)\n",
    "\ttotal_attrs = []\n",
    "\tfor attr in attrs:\n",
    "\t\tvals = listdir(path + attr)\n",
    "\t\tvals= [ x.split('=')[1].split('.')[0] for x in vals ]\n",
    "\t\tif 'unknown' in vals:\n",
    "\t\t\tvals.remove('unknown')\n",
    "\t\ttotal_attrs.append(vals)\n",
    "\t# print(total_attrs)\n",
    "\treturn total_attrs\n",
    "\n",
    "\n",
    "# 一共5层，每层1~5种root cause,共25种\n",
    "def find_root_causes(total_attrs):\n",
    "\tlayers, kinds = 5, 5\n",
    "\troot_causes = []\n",
    "\tfor i in range(layers):\n",
    "\t\tlayer_vals = []\n",
    "\t\tfor j in range(kinds):\n",
    "\t\t\tvals = []\n",
    "\t\t\t# 从5个属性里随机选择 i 个(第一层1个，第二层2个...)\n",
    "\t\t\trandom_nums = random.sample([x for x in range(5)], i + 1)\t\n",
    "\t\t\tfor k in range(i + 1):\n",
    "\t\t\t\tvals.append( random.sample(total_attrs[random_nums[k]], 1)[0] )\t\n",
    "\t\t\tlayer_vals.append(vals)\n",
    "\t\t\ttemp = layer_vals[:]\t\t# 深拷贝\n",
    "\t\t\troot_causes.append(temp)\n",
    "\treturn root_causes\n"
   ]
  },
  {
   "cell_type": "markdown",
   "metadata": {},
   "source": [
    "## 随机找出25种根因"
   ]
  },
  {
   "cell_type": "code",
   "execution_count": 3,
   "metadata": {},
   "outputs": [
    {
     "ename": "FileNotFoundError",
     "evalue": "[Errno 2] No such file or directory: '../data/result/'",
     "traceback": [
      "\u001b[0;31m---------------------------------------------------------------------------\u001b[0m",
      "\u001b[0;31mFileNotFoundError\u001b[0m                         Traceback (most recent call last)",
      "\u001b[0;32m<ipython-input-3-82302cd7b8d5>\u001b[0m in \u001b[0;36m<module>\u001b[0;34m()\u001b[0m\n\u001b[0;32m----> 1\u001b[0;31m \u001b[0mtotal_attrs\u001b[0m \u001b[0;34m=\u001b[0m \u001b[0mfind_total_attrs\u001b[0m\u001b[0;34m(\u001b[0m\u001b[0;34m'../data/result/'\u001b[0m\u001b[0;34m)\u001b[0m\u001b[0;34m\u001b[0m\u001b[0m\n\u001b[0m\u001b[1;32m      2\u001b[0m \u001b[0mroot_causes\u001b[0m \u001b[0;34m=\u001b[0m \u001b[0mfind_root_causes\u001b[0m\u001b[0;34m(\u001b[0m\u001b[0mtotal_attrs\u001b[0m\u001b[0;34m)\u001b[0m\u001b[0;34m\u001b[0m\u001b[0m\n\u001b[1;32m      3\u001b[0m \u001b[0;34m\u001b[0m\u001b[0m\n\u001b[1;32m      4\u001b[0m \u001b[0;32mfor\u001b[0m \u001b[0mroot_cause\u001b[0m \u001b[0;32min\u001b[0m \u001b[0mroot_causes\u001b[0m\u001b[0;34m:\u001b[0m\u001b[0;34m\u001b[0m\u001b[0m\n\u001b[1;32m      5\u001b[0m         \u001b[0mprint\u001b[0m\u001b[0;34m(\u001b[0m\u001b[0mroot_cause\u001b[0m\u001b[0;34m)\u001b[0m\u001b[0;34m\u001b[0m\u001b[0m\n",
      "\u001b[0;32m<ipython-input-2-1604c0b7bf2f>\u001b[0m in \u001b[0;36mfind_total_attrs\u001b[0;34m(path)\u001b[0m\n\u001b[1;32m      1\u001b[0m \u001b[0;31m# 取出5种属性的所有属性值\u001b[0m\u001b[0;34m\u001b[0m\u001b[0;34m\u001b[0m\u001b[0m\n\u001b[1;32m      2\u001b[0m \u001b[0;32mdef\u001b[0m \u001b[0mfind_total_attrs\u001b[0m\u001b[0;34m(\u001b[0m\u001b[0mpath\u001b[0m\u001b[0;34m)\u001b[0m\u001b[0;34m:\u001b[0m\u001b[0;34m\u001b[0m\u001b[0m\n\u001b[0;32m----> 3\u001b[0;31m         \u001b[0mattrs\u001b[0m \u001b[0;34m=\u001b[0m \u001b[0mlistdir\u001b[0m\u001b[0;34m(\u001b[0m\u001b[0mpath\u001b[0m\u001b[0;34m)\u001b[0m\u001b[0;34m\u001b[0m\u001b[0m\n\u001b[0m\u001b[1;32m      4\u001b[0m         \u001b[0mtotal_attrs\u001b[0m \u001b[0;34m=\u001b[0m \u001b[0;34m[\u001b[0m\u001b[0;34m]\u001b[0m\u001b[0;34m\u001b[0m\u001b[0m\n\u001b[1;32m      5\u001b[0m         \u001b[0;32mfor\u001b[0m \u001b[0mattr\u001b[0m \u001b[0;32min\u001b[0m \u001b[0mattrs\u001b[0m\u001b[0;34m:\u001b[0m\u001b[0;34m\u001b[0m\u001b[0m\n",
      "\u001b[0;31mFileNotFoundError\u001b[0m: [Errno 2] No such file or directory: '../data/result/'"
     ],
     "output_type": "error"
    }
   ],
   "source": [
    "total_attrs = find_total_attrs('../data/result/')\n",
    "root_causes = find_root_causes(total_attrs)\n",
    "\n",
    "for root_cause in root_causes:\n",
    "\tprint(root_cause)"
   ]
  },
  {
   "cell_type": "code",
   "execution_count": null,
   "metadata": {
    "collapsed": true
   },
   "outputs": [],
   "source": [
    "# 计算异常\n",
    "def compute_anomaly(path):\n",
    "\to = open(path, 'rb')\n",
    "\tdf = pd.read_csv(o)\n",
    "\tlength = len(df)\n",
    "\n",
    "\t# 随机选取一个时间戳(为方便计算不选头尾处时间戳)\n",
    "\trand_idx = random.randint(150, length - 150)\n",
    "\ttimestamp = df.loc[rand_idx][0]\t\t\t\t\t\t# 随机选择的timestamp\n",
    "\ttemp_df = df[rand_idx - 144 : rand_idx + 144]\t\t# 时间间隔为5分钟，共14天数据，选取一天的数据\n",
    "\tkpi = temp_df['KPI'].as_matrix()\n",
    "\tkpi = [float(i) for i in kpi]\n",
    "\t# print(kpi)\n",
    "\tmean = np.mean(kpi)\n",
    "\tstd = np.std(kpi)\n",
    "\ttotal_anomaly = int(mean + 5*std)\t\t\t\t\t# 此timestamp上的总KPI异常\n",
    "\t# print(total_anomaly)\n",
    "\treturn timestamp, total_anomaly\n",
    "\t\n",
    "\n",
    "# 分发异常\n",
    "def distribute_anomaly(root_cause, path):\n",
    "\ttimestamp, total_anomaly = compute_anomaly(path)\n",
    "\tprint(root_cause, timestamp)\n",
    "\tpath2 = '../data/origin/' + str(timestamp) + '.csv'\n",
    "\tpath3 = '../data/anomaly/' + str(timestamp) + '.csv'\n",
    "\tfor y in root_cause:\n",
    "\t\tfor x in y:\n",
    "\t\t\to = open(path2, 'rb')\n",
    "\t\t\tdf = pd.read_csv(o, names  = ['i', 'e', 'c', 'p', 'l', 'kpi'])\n",
    "\t\t\tlocs = []\n",
    "\t\t\tfor idx in df.index:\n",
    "\t\t\t\ti, e, c, p, l = df.loc[idx]['i'], df.loc[idx]['e'], df.loc[idx]['c'], df.loc[idx]['p'], df.loc[idx]['l']\n",
    "\t\t\t\tif i in x or e in x or c in x or p in x or l in x:\n",
    "\t\t\t\t\tlocs.append(idx)\n",
    "\n",
    "\t\t\t# 若此时间戳不含此属性值，则重新找一个时间戳\n",
    "\t\t\tif len(locs) == 0:\n",
    "\t\t\t\tdistribute_anomaly(root_cause, path)\n",
    "\t\t\t\treturn\n",
    "\n",
    "\t\t\tprint(locs)\n",
    "\t\t\tanomaly = int(total_anomaly / len(locs))\n",
    "\t\t\tdf_out = df[:]\n",
    "\t\t\tfor idx in locs:\n",
    "\t\t\t\ti, e, c, p, l = df.loc[idx]['i'], df.loc[idx]['e'], df.loc[idx]['c'], df.loc[idx]['p'], df.loc[idx]['l']\n",
    "\t\t\t\tprint(i, e, c, p, l)\n",
    "\t\t\t\tdf_out.loc[idx] = {'i':i, 'e':e, 'c':c, 'p':p, 'l':l, 'kpi':df.loc[idx]['kpi'] + anomaly}\n",
    "\t\t\tcsvfile = open(path3, 'w')\n",
    "\t\t\tdf_out.to_csv(path3)"
   ]
  },
  {
   "cell_type": "markdown",
   "metadata": {},
   "source": [
    "## 随机找出25个timestamp注入异常"
   ]
  },
  {
   "cell_type": "code",
   "execution_count": null,
   "metadata": {},
   "outputs": [],
   "source": [
    "# 使用25种根因随机选择timestamp注入异常\n",
    "path = '../data/KPI_new.csv'\n",
    "distribute_anomaly(root_causes[0], path)"
   ]
  },
  {
   "cell_type": "code",
   "execution_count": null,
   "metadata": {},
   "outputs": [],
   "source": [
    "path = '../data/anomaly/1536278100000.csv'\n",
    "o = open(path, 'rb')\n",
    "df = pd.read_csv(o)\n",
    "df.head(20)"
   ]
  },
  {
   "cell_type": "markdown",
   "metadata": {},
   "source": [
    "## 在第一个索引处插入异常老是插入列名，之后的索引处异常注入正确."
   ]
  }
 ],
 "metadata": {
  "kernelspec": {
   "display_name": "Python 3",
   "language": "python",
   "name": "python3"
  },
  "language_info": {
   "codemirror_mode": {
    "name": "ipython",
    "version": 3
   },
   "file_extension": ".py",
   "mimetype": "text/x-python",
   "name": "python",
   "nbconvert_exporter": "python",
   "pygments_lexer": "ipython3",
   "version": "3.6.2"
  }
 },
 "nbformat": 4,
 "nbformat_minor": 2
}
